{
 "cells": [
  {
   "cell_type": "code",
   "execution_count": 1,
   "id": "3b9766db",
   "metadata": {},
   "outputs": [],
   "source": [
    "import torch\n",
    "import torch.nn as nn\n",
    "import torch.nn.functional as F\n",
    "import torch.distributions as dist\n",
    "from torchvision import datasets, transforms, utils\n",
    "import numpy as np\n",
    "import matplotlib.pyplot as plt"
   ]
  },
  {
   "cell_type": "markdown",
   "id": "b9a409aa-4066-46a6-8ba8-43150d068d7c",
   "metadata": {},
   "source": [
    "# Implementing classic VAE"
   ]
  },
  {
   "cell_type": "markdown",
   "id": "6712d5aa",
   "metadata": {},
   "source": [
    "We start by creating the VAE class "
   ]
  },
  {
   "cell_type": "code",
   "execution_count": 2,
   "id": "8cb495bc",
   "metadata": {},
   "outputs": [],
   "source": [
    "class Encoder(nn.Module):\n",
    "    def __init__(self, input_dim, hidden_dim1, hidden_dim2, latent_dim):\n",
    "        super().__init__()\n",
    "        \n",
    "        self.input_dim = input_dim\n",
    "        self.hidden_dim1 = hidden_dim1\n",
    "        self.hidden_dim2 = hidden_dim2\n",
    "        self.latent_dim = latent_dim\n",
    "        \n",
    "        # Define the layers\n",
    "        \n",
    "        self.fc1 = nn.Linear(input_dim, hidden_dim1)\n",
    "        self.fc2 = nn.Linear(hidden_dim1, hidden_dim2)\n",
    "        self.fc3_mean = nn.Linear(hidden_dim2, latent_dim)\n",
    "        self.fc3_var = nn.Linear(hidden_dim2, latent_dim)\n",
    "        \n",
    "    def forward(self, x):\n",
    "        out = F.elu(self.fc1(x))\n",
    "        out = F.elu(self.fc2(out))\n",
    "        mean = self.fc3_mean(out)\n",
    "        var = self.fc3_var(out) # = diagonal elements of the covariance matrix (mean-field assumption on the latent variables so it can be expressed as a vector)\n",
    "        \n",
    "        return mean, var"
   ]
  },
  {
   "cell_type": "code",
   "execution_count": 3,
   "id": "02b31286",
   "metadata": {},
   "outputs": [],
   "source": [
    "class Decoder(nn.Module):\n",
    "    def __init__(self, input_dim, hidden_dim1, hidden_dim2, latent_dim):\n",
    "        super().__init__()\n",
    "        \n",
    "        self.input_dim = input_dim\n",
    "        self.hidden_dim1 = hidden_dim1\n",
    "        self.hidden_dim2 = hidden_dim2\n",
    "        self.latent_dim = latent_dim\n",
    "        \n",
    "        # Define the layers\n",
    "        \n",
    "        self.fc1 = nn.Linear(latent_dim, hidden_dim2)\n",
    "        self.fc2 = nn.Linear(hidden_dim2, hidden_dim1)\n",
    "        self.fc3 = nn.Linear(hidden_dim1, input_dim)\n",
    "        \n",
    "    def forward(self, z):\n",
    "        out = F.elu(self.fc1(z))\n",
    "        out = F.elu(self.fc2(out))\n",
    "        x = torch.sigmoid(self.fc3(out))\n",
    "        \n",
    "        return x"
   ]
  },
  {
   "cell_type": "code",
   "execution_count": 4,
   "id": "7636ebcc",
   "metadata": {},
   "outputs": [],
   "source": [
    "class VAE(nn.Module):\n",
    "    def __init__(self, encoder, decoder):\n",
    "        super().__init__()\n",
    "        \n",
    "        self.encoder = encoder\n",
    "        self.decoder = decoder\n",
    "        \n",
    "    def reparameterization(self, mean, var):\n",
    "        std = torch.exp(var) # To ensure we cannot have negative values in the variance\n",
    "        sample = torch.randn_like(std)\n",
    "        \n",
    "        return mean + std * sample\n",
    "    \n",
    "    def loss(self, recon_x, x, mean, var):\n",
    "        reconstruction_loss = nn.functional.binary_cross_entropy(recon_x, x, reduction='sum') # We use cross entropy as pixels in binary MNIST follows a Bernoulli distribution \n",
    "        kl_divergence = - 0.5 * torch.sum(1 + var - mean.pow(2) - var.exp())\n",
    "\n",
    "        return reconstruction_loss + kl_divergence\n",
    "        \n",
    "    def forward(self, x):\n",
    "        mean, var = self.encoder(x)\n",
    "        z = self.reparameterization(mean, var)\n",
    "        recon_x = self.decoder(z)\n",
    "        \n",
    "        return recon_x, mean, var"
   ]
  },
  {
   "cell_type": "markdown",
   "id": "48205c50",
   "metadata": {},
   "source": [
    "We import MNIST and transform it into binary MNIST"
   ]
  },
  {
   "cell_type": "code",
   "execution_count": 6,
   "id": "f5effc7f",
   "metadata": {},
   "outputs": [],
   "source": [
    "batch_size = 100\n",
    "\n",
    "# To transform MNIST into binary MNIST\n",
    "transform = transforms.Compose([\n",
    "    transforms.ToTensor(),\n",
    "    transforms.Lambda(lambda x: torch.where(x >= 0.5, torch.tensor(1, dtype=torch.float32), torch.tensor(0, dtype=torch.float32))),\n",
    "])\n",
    "\n",
    "train_dataset = datasets.MNIST(root='./data', train=True, download=True, transform=transform)\n",
    "test_dataset = datasets.MNIST(root='./data', train=False, download=True, transform=transform)\n",
    "n_class = len(train_dataset.classes) # Useful for the multi_encoder VAE\n",
    "train_loader = torch.utils.data.DataLoader(dataset=train_dataset, batch_size=batch_size)\n",
    "test_loader = torch.utils.data.DataLoader(dataset=test_dataset, batch_size=batch_size)"
   ]
  },
  {
   "cell_type": "markdown",
   "id": "7e2eef37",
   "metadata": {},
   "source": [
    "We train the VAE "
   ]
  },
  {
   "cell_type": "code",
   "execution_count": 2,
   "id": "89612e01",
   "metadata": {},
   "outputs": [],
   "source": [
    "def train(vae_model, input_dim, loader, optimizer, n_epochs=20):\n",
    "    \"\"\"\n",
    "    Train the VAE\n",
    "\n",
    "    Params:\n",
    "    - vae_model: An instance of VAE\n",
    "    - input_dim: The dimension of the input\n",
    "    - loader: The loader on which we will train the model\n",
    "    - optimizer: The optimizer used to train\n",
    "    - n_epochs: The number of training epochs\n",
    "    \"\"\"\n",
    "    vae_model.train()\n",
    "\n",
    "    for epoch in range(n_epochs):\n",
    "        overall_loss = 0\n",
    "\n",
    "        for batch_idx, (x, _) in enumerate(loader):\n",
    "            x = x.view(batch_size, input_dim)\n",
    "            \n",
    "            optimizer.zero_grad()\n",
    "            recon_x, mean, var = vae_model(x)\n",
    "            loss = vae_model.loss(recon_x, x, mean, var)\n",
    "            overall_loss += loss\n",
    "            \n",
    "            loss.backward()\n",
    "            optimizer.step()\n",
    "\n",
    "        print(\"\\tEpoch\", epoch + 1, \"\\tAverage Loss: \", overall_loss/(batch_idx*batch_size))\n",
    "        \n",
    "    return overall_loss"
   ]
  },
  {
   "cell_type": "code",
   "execution_count": null,
   "id": "c0a18d02",
   "metadata": {},
   "outputs": [],
   "source": [
    "train_classic_vae = False # Change to true if you want to train the VAE instead of taking the trained one\n",
    "\n",
    "# Define the dimension of the layers\n",
    "input_dim = 28 * 28\n",
    "hidden_dim1 = hidden_dim2 = 200\n",
    "latent_dim = 50\n",
    "\n",
    "# Create the classic VAE\n",
    "encoder = Encoder(input_dim, hidden_dim1, hidden_dim2, latent_dim)\n",
    "decoder = Decoder(input_dim, hidden_dim1, hidden_dim2, latent_dim)\n",
    "classic_vae = VAE(encoder, decoder)\n",
    "\n",
    "# Training (if train == True) otherwise just load the already trained model\n",
    "optimizer = torch.optim.Adam(list(classic_vae.encoder.parameters()) + list(classic_vae.decoder.parameters()), lr=0.001)\n",
    "\n",
    "if train_classic_vae:\n",
    "    train_classic(classic_vae, input_dim, train_loader, optimizer)\n",
    "    torch.save(classic_vae.state_dict(), 'save/classic_vae.pth')\n",
    "else:\n",
    "    classic_vae.load_state_dict(torch.load('save/classic_vae.pth'))\n",
    "\n",
    "for param in classic_vae.encoder.parameters():\n",
    "    param.requires_grad = False \n",
    "for param in classic_vae.decoder.parameters():\n",
    "    param.requires_grad = False \n",
    "\n",
    "classic_vae.eval()"
   ]
  }
 ],
 "metadata": {
  "kernelspec": {
   "display_name": "venv",
   "language": "python",
   "name": "venv"
  },
  "language_info": {
   "codemirror_mode": {
    "name": "ipython",
    "version": 3
   },
   "file_extension": ".py",
   "mimetype": "text/x-python",
   "name": "python",
   "nbconvert_exporter": "python",
   "pygments_lexer": "ipython3",
   "version": "3.10.8"
  }
 },
 "nbformat": 4,
 "nbformat_minor": 5
}
